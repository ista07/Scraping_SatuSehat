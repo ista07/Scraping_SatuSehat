{
  "cells": [
    {
      "cell_type": "markdown",
      "source": [
        "# **Scraping SatuSehat (PeduliLindungi) Link News**"
      ],
      "metadata": {
        "id": "gHgLJ4DIym00"
      }
    },
    {
      "cell_type": "markdown",
      "metadata": {
        "id": "L0BRmyK5s5G8"
      },
      "source": [
        "Salah satu cara untuk melakukan web scraping adalah dengan menggunakan `Selenium`. Beberapa kelebihan dari Selenium, yaitu:\n",
        "- Selenium dapat berinteraksi dengan elemen di halaman web, seperti mengklik tombol dan menavigasi antar halaman yang sangat berguna untuk mengakses konten yang dimuat secara dinamis.\n",
        "- Selenium dapat digunakan pada berbagai browser, salah satunya adalah Google Chrome.\n",
        "\n",
        "\n"
      ]
    },
    {
      "cell_type": "markdown",
      "source": [
        "Pada kesempatan ini, kami dari kelompok 2 akan melakukan scraping link berita yang berhubungan dengan aplikasi SatuSehat (PeduliLindungi) menggunakan `Selenium` pada Google Chrome."
      ],
      "metadata": {
        "id": "fORekxp8zToD"
      }
    },
    {
      "cell_type": "markdown",
      "metadata": {
        "id": "q8UGFNE02ZY0"
      },
      "source": [
        "# Set Up"
      ]
    },
    {
      "cell_type": "markdown",
      "metadata": {
        "id": "AtN79oZazmZW"
      },
      "source": [
        "Sebelum memulai lebih lanjut, kita harus menyiapkan lingkungan di Ubuntu dengan mengunduh dan menginstal Google Chrome dan ChromeDriver agar Selenium dapat mengotomatisasi browser."
      ]
    },
    {
      "cell_type": "code",
      "execution_count": null,
      "metadata": {
        "colab": {
          "base_uri": "https://localhost:8080/"
        },
        "id": "2TOhC2hazmCf",
        "outputId": "4e49b8af-3a5e-48bb-e2cf-afb43559a25f",
        "collapsed": true
      },
      "outputs": [
        {
          "output_type": "stream",
          "name": "stdout",
          "text": [
            "\u001b[33m\r0% [Working]\u001b[0m\r            \rHit:1 http://archive.ubuntu.com/ubuntu jammy InRelease\n",
            "\u001b[33m\r0% [Waiting for headers] [Connecting to security.ubuntu.com (185.125.190.82)] [\u001b[0m\r                                                                               \rGet:2 http://archive.ubuntu.com/ubuntu jammy-updates InRelease [128 kB]\n",
            "\u001b[33m\r0% [2 InRelease 59.1 kB/128 kB 46%] [Waiting for headers] [Waiting for headers]\u001b[0m\r                                                                               \rGet:3 https://cloud.r-project.org/bin/linux/ubuntu jammy-cran40/ InRelease [3,626 B]\n",
            "\u001b[33m\r0% [2 InRelease 79.3 kB/128 kB 62%] [Waiting for headers] [3 InRelease 3,626 B/\u001b[0m\u001b[33m\r0% [2 InRelease 79.3 kB/128 kB 62%] [Waiting for headers] [Connected to r2u.sta\u001b[0m\u001b[33m\r0% [Waiting for headers] [Waiting for headers] [Connected to r2u.stat.illinois.\u001b[0m\r                                                                               \rHit:4 https://developer.download.nvidia.com/compute/cuda/repos/ubuntu2204/x86_64  InRelease\n",
            "\u001b[33m\r0% [Waiting for headers] [Waiting for headers] [Connected to r2u.stat.illinois.\u001b[0m\r                                                                               \rGet:5 http://security.ubuntu.com/ubuntu jammy-security InRelease [129 kB]\n",
            "Get:6 http://archive.ubuntu.com/ubuntu jammy-backports InRelease [127 kB]\n",
            "Ign:7 https://r2u.stat.illinois.edu/ubuntu jammy InRelease\n",
            "Get:8 https://r2u.stat.illinois.edu/ubuntu jammy Release [5,713 B]\n",
            "Get:9 https://r2u.stat.illinois.edu/ubuntu jammy Release.gpg [793 B]\n",
            "Hit:10 https://ppa.launchpadcontent.net/deadsnakes/ppa/ubuntu jammy InRelease\n",
            "Hit:11 https://ppa.launchpadcontent.net/graphics-drivers/ppa/ubuntu jammy InRelease\n",
            "Hit:12 https://ppa.launchpadcontent.net/ubuntugis/ppa/ubuntu jammy InRelease\n",
            "Get:13 http://archive.ubuntu.com/ubuntu jammy-updates/universe amd64 Packages [1,447 kB]\n",
            "Get:14 http://archive.ubuntu.com/ubuntu jammy-updates/main amd64 Packages [2,596 kB]\n",
            "Get:15 https://r2u.stat.illinois.edu/ubuntu jammy/main amd64 Packages [2,600 kB]\n",
            "Get:16 http://security.ubuntu.com/ubuntu jammy-security/universe amd64 Packages [1,159 kB]\n",
            "Get:17 https://r2u.stat.illinois.edu/ubuntu jammy/main all Packages [8,378 kB]\n",
            "Get:18 http://security.ubuntu.com/ubuntu jammy-security/main amd64 Packages [2,318 kB]\n",
            "Fetched 18.9 MB in 5s (3,767 kB/s)\n",
            "Reading package lists... Done\n",
            "Building dependency tree... Done\n",
            "Reading state information... Done\n",
            "54 packages can be upgraded. Run 'apt list --upgradable' to see them.\n",
            "\u001b[1;33mW: \u001b[0mSkipping acquire of configured file 'main/source/Sources' as repository 'https://r2u.stat.illinois.edu/ubuntu jammy InRelease' does not seem to provide it (sources.list entry misspelt?)\u001b[0m\n",
            "Reading package lists... Done\n",
            "Building dependency tree... Done\n",
            "Reading state information... Done\n",
            "curl is already the newest version (7.81.0-1ubuntu1.18).\n",
            "unzip is already the newest version (6.0-26ubuntu3.2).\n",
            "wget is already the newest version (1.21.2-2ubuntu1.1).\n",
            "0 upgraded, 0 newly installed, 0 to remove and 54 not upgraded.\n",
            "--2024-10-06 06:03:13--  http://archive.ubuntu.com/ubuntu/pool/main/libu/libu2f-host/libu2f-udev_1.1.4-1_all.deb\n",
            "Resolving archive.ubuntu.com (archive.ubuntu.com)... 185.125.190.81, 185.125.190.83, 91.189.91.82, ...\n",
            "Connecting to archive.ubuntu.com (archive.ubuntu.com)|185.125.190.81|:80... connected.\n",
            "HTTP request sent, awaiting response... 200 OK\n",
            "Length: 3708 (3.6K) [application/vnd.debian.binary-package]\n",
            "Saving to: ‘libu2f-udev_1.1.4-1_all.deb’\n",
            "\n",
            "libu2f-udev_1.1.4-1 100%[===================>]   3.62K  --.-KB/s    in 0s      \n",
            "\n",
            "2024-10-06 06:03:13 (384 MB/s) - ‘libu2f-udev_1.1.4-1_all.deb’ saved [3708/3708]\n",
            "\n",
            "Selecting previously unselected package libu2f-udev.\n",
            "(Reading database ... 123620 files and directories currently installed.)\n",
            "Preparing to unpack libu2f-udev_1.1.4-1_all.deb ...\n",
            "Unpacking libu2f-udev (1.1.4-1) ...\n",
            "Setting up libu2f-udev (1.1.4-1) ...\n",
            "--2024-10-06 06:03:14--  https://dl.google.com/linux/direct/google-chrome-stable_current_amd64.deb\n",
            "Resolving dl.google.com (dl.google.com)... 108.177.11.190, 108.177.11.93, 108.177.11.136, ...\n",
            "Connecting to dl.google.com (dl.google.com)|108.177.11.190|:443... connected.\n",
            "HTTP request sent, awaiting response... 200 OK\n",
            "Length: 111878140 (107M) [application/x-debian-package]\n",
            "Saving to: ‘google-chrome-stable_current_amd64.deb’\n",
            "\n",
            "google-chrome-stabl 100%[===================>] 106.69M   236MB/s    in 0.5s    \n",
            "\n",
            "2024-10-06 06:03:15 (236 MB/s) - ‘google-chrome-stable_current_amd64.deb’ saved [111878140/111878140]\n",
            "\n",
            "Selecting previously unselected package google-chrome-stable.\n",
            "(Reading database ... 123624 files and directories currently installed.)\n",
            "Preparing to unpack google-chrome-stable_current_amd64.deb ...\n",
            "Unpacking google-chrome-stable (129.0.6668.89-1) ...\n",
            "\u001b[1mdpkg:\u001b[0m dependency problems prevent configuration of google-chrome-stable:\n",
            " google-chrome-stable depends on libvulkan1; however:\n",
            "  Package libvulkan1 is not installed.\n",
            "\n",
            "\u001b[1mdpkg:\u001b[0m error processing package google-chrome-stable (--install):\n",
            " dependency problems - leaving unconfigured\n",
            "Processing triggers for man-db (2.10.2-1) ...\n",
            "Errors were encountered while processing:\n",
            " google-chrome-stable\n",
            "--2024-10-06 06:03:31--  https://chromedriver.storage.googleapis.com/114.0.5735.90/chromedriver_linux64.zip\n",
            "Resolving chromedriver.storage.googleapis.com (chromedriver.storage.googleapis.com)... 172.217.204.207, 172.217.203.207, 142.250.98.207, ...\n",
            "Connecting to chromedriver.storage.googleapis.com (chromedriver.storage.googleapis.com)|172.217.204.207|:443... connected.\n",
            "HTTP request sent, awaiting response... 200 OK\n",
            "Length: 7407250 (7.1M) [application/zip]\n",
            "Saving to: ‘/tmp/chromedriver_linux64.zip’\n",
            "\n",
            "chromedriver_linux6 100%[===================>]   7.06M  --.-KB/s    in 0.03s   \n",
            "\n",
            "2024-10-06 06:03:31 (258 MB/s) - ‘/tmp/chromedriver_linux64.zip’ saved [7407250/7407250]\n",
            "\n",
            "Archive:  /tmp/chromedriver_linux64.zip\n",
            "  inflating: /tmp/chromedriver       \n",
            "  inflating: /tmp/LICENSE.chromedriver  \n",
            "Collecting selenium\n",
            "  Downloading selenium-4.25.0-py3-none-any.whl.metadata (7.1 kB)\n",
            "Requirement already satisfied: urllib3<3,>=1.26 in /usr/local/lib/python3.10/dist-packages (from urllib3[socks]<3,>=1.26->selenium) (2.2.3)\n",
            "Collecting trio~=0.17 (from selenium)\n",
            "  Downloading trio-0.26.2-py3-none-any.whl.metadata (8.6 kB)\n",
            "Collecting trio-websocket~=0.9 (from selenium)\n",
            "  Downloading trio_websocket-0.11.1-py3-none-any.whl.metadata (4.7 kB)\n",
            "Requirement already satisfied: certifi>=2021.10.8 in /usr/local/lib/python3.10/dist-packages (from selenium) (2024.8.30)\n",
            "Requirement already satisfied: typing_extensions~=4.9 in /usr/local/lib/python3.10/dist-packages (from selenium) (4.12.2)\n",
            "Requirement already satisfied: websocket-client~=1.8 in /usr/local/lib/python3.10/dist-packages (from selenium) (1.8.0)\n",
            "Requirement already satisfied: attrs>=23.2.0 in /usr/local/lib/python3.10/dist-packages (from trio~=0.17->selenium) (24.2.0)\n",
            "Requirement already satisfied: sortedcontainers in /usr/local/lib/python3.10/dist-packages (from trio~=0.17->selenium) (2.4.0)\n",
            "Requirement already satisfied: idna in /usr/local/lib/python3.10/dist-packages (from trio~=0.17->selenium) (3.10)\n",
            "Collecting outcome (from trio~=0.17->selenium)\n",
            "  Downloading outcome-1.3.0.post0-py2.py3-none-any.whl.metadata (2.6 kB)\n",
            "Requirement already satisfied: sniffio>=1.3.0 in /usr/local/lib/python3.10/dist-packages (from trio~=0.17->selenium) (1.3.1)\n",
            "Requirement already satisfied: exceptiongroup in /usr/local/lib/python3.10/dist-packages (from trio~=0.17->selenium) (1.2.2)\n",
            "Collecting wsproto>=0.14 (from trio-websocket~=0.9->selenium)\n",
            "  Downloading wsproto-1.2.0-py3-none-any.whl.metadata (5.6 kB)\n",
            "Requirement already satisfied: pysocks!=1.5.7,<2.0,>=1.5.6 in /usr/local/lib/python3.10/dist-packages (from urllib3[socks]<3,>=1.26->selenium) (1.7.1)\n",
            "Collecting h11<1,>=0.9.0 (from wsproto>=0.14->trio-websocket~=0.9->selenium)\n",
            "  Downloading h11-0.14.0-py3-none-any.whl.metadata (8.2 kB)\n",
            "Downloading selenium-4.25.0-py3-none-any.whl (9.7 MB)\n",
            "\u001b[2K   \u001b[90m━━━━━━━━━━━━━━━━━━━━━━━━━━━━━━━━━━━━━━━━\u001b[0m \u001b[32m9.7/9.7 MB\u001b[0m \u001b[31m49.6 MB/s\u001b[0m eta \u001b[36m0:00:00\u001b[0m\n",
            "\u001b[?25hDownloading trio-0.26.2-py3-none-any.whl (475 kB)\n",
            "\u001b[2K   \u001b[90m━━━━━━━━━━━━━━━━━━━━━━━━━━━━━━━━━━━━━━━━\u001b[0m \u001b[32m476.0/476.0 kB\u001b[0m \u001b[31m26.4 MB/s\u001b[0m eta \u001b[36m0:00:00\u001b[0m\n",
            "\u001b[?25hDownloading trio_websocket-0.11.1-py3-none-any.whl (17 kB)\n",
            "Downloading wsproto-1.2.0-py3-none-any.whl (24 kB)\n",
            "Downloading outcome-1.3.0.post0-py2.py3-none-any.whl (10 kB)\n",
            "Downloading h11-0.14.0-py3-none-any.whl (58 kB)\n",
            "\u001b[2K   \u001b[90m━━━━━━━━━━━━━━━━━━━━━━━━━━━━━━━━━━━━━━━━\u001b[0m \u001b[32m58.3/58.3 kB\u001b[0m \u001b[31m4.4 MB/s\u001b[0m eta \u001b[36m0:00:00\u001b[0m\n",
            "\u001b[?25hInstalling collected packages: outcome, h11, wsproto, trio, trio-websocket, selenium\n",
            "Successfully installed h11-0.14.0 outcome-1.3.0.post0 selenium-4.25.0 trio-0.26.2 trio-websocket-0.11.1 wsproto-1.2.0\n"
          ]
        },
        {
          "output_type": "execute_result",
          "data": {
            "text/plain": []
          },
          "metadata": {},
          "execution_count": 1
        }
      ],
      "source": [
        "%%shell\n",
        "sudo apt -y update\n",
        "sudo apt install -y wget curl unzip\n",
        "wget http://archive.ubuntu.com/ubuntu/pool/main/libu/libu2f-host/libu2f-udev_1.1.4-1_all.deb\n",
        "dpkg -i libu2f-udev_1.1.4-1_all.deb\n",
        "wget https://dl.google.com/linux/direct/google-chrome-stable_current_amd64.deb\n",
        "dpkg -i google-chrome-stable_current_amd64.deb\n",
        "CHROME_DRIVER_VERSION=`curl -sS chromedriver.storage.googleapis.com/LATEST_RELEASE`\n",
        "wget -N https://chromedriver.storage.googleapis.com/$CHROME_DRIVER_VERSION/chromedriver_linux64.zip -P /tmp/\n",
        "unzip -o /tmp/chromedriver_linux64.zip -d /tmp/\n",
        "chmod +x /tmp/chromedriver\n",
        "mv /tmp/chromedriver /usr/local/bin/chromedriver\n",
        "pip install selenium"
      ]
    },
    {
      "cell_type": "code",
      "execution_count": null,
      "metadata": {
        "colab": {
          "base_uri": "https://localhost:8080/"
        },
        "id": "cY6T7eRJzvSZ",
        "outputId": "8826ef0a-c86d-4aac-aba6-b885073416a2",
        "collapsed": true
      },
      "outputs": [
        {
          "output_type": "stream",
          "name": "stdout",
          "text": [
            "Collecting chromedriver-autoinstaller\n",
            "  Downloading chromedriver_autoinstaller-0.6.4-py3-none-any.whl.metadata (2.1 kB)\n",
            "Requirement already satisfied: packaging>=23.1 in /usr/local/lib/python3.10/dist-packages (from chromedriver-autoinstaller) (24.1)\n",
            "Downloading chromedriver_autoinstaller-0.6.4-py3-none-any.whl (7.6 kB)\n",
            "Installing collected packages: chromedriver-autoinstaller\n",
            "Successfully installed chromedriver-autoinstaller-0.6.4\n",
            "Collecting dateparser\n",
            "  Downloading dateparser-1.2.0-py2.py3-none-any.whl.metadata (28 kB)\n",
            "Requirement already satisfied: python-dateutil in /usr/local/lib/python3.10/dist-packages (from dateparser) (2.8.2)\n",
            "Requirement already satisfied: pytz in /usr/local/lib/python3.10/dist-packages (from dateparser) (2024.2)\n",
            "Requirement already satisfied: regex!=2019.02.19,!=2021.8.27 in /usr/local/lib/python3.10/dist-packages (from dateparser) (2024.9.11)\n",
            "Requirement already satisfied: tzlocal in /usr/local/lib/python3.10/dist-packages (from dateparser) (5.2)\n",
            "Requirement already satisfied: six>=1.5 in /usr/local/lib/python3.10/dist-packages (from python-dateutil->dateparser) (1.16.0)\n",
            "Downloading dateparser-1.2.0-py2.py3-none-any.whl (294 kB)\n",
            "\u001b[2K   \u001b[90m━━━━━━━━━━━━━━━━━━━━━━━━━━━━━━━━━━━━━━━━\u001b[0m \u001b[32m295.0/295.0 kB\u001b[0m \u001b[31m3.1 MB/s\u001b[0m eta \u001b[36m0:00:00\u001b[0m\n",
            "\u001b[?25hInstalling collected packages: dateparser\n",
            "Successfully installed dateparser-1.2.0\n"
          ]
        }
      ],
      "source": [
        "# Install Libraries\n",
        "!pip install chromedriver-autoinstaller\n",
        "!pip install dateparser"
      ]
    },
    {
      "cell_type": "code",
      "execution_count": null,
      "metadata": {
        "id": "uxSp7oVFzf0b"
      },
      "outputs": [],
      "source": [
        "# Import library\n",
        "import re\n",
        "import csv\n",
        "import sys\n",
        "import time\n",
        "import dateparser\n",
        "import pandas as pd\n",
        "import chromedriver_autoinstaller\n",
        "from datetime import datetime\n",
        "from selenium import webdriver\n",
        "from selenium.webdriver.common.by import By\n",
        "from selenium.webdriver.support.ui import WebDriverWait\n",
        "from selenium.common.exceptions import NoSuchElementException\n",
        "from selenium.webdriver.support import expected_conditions as EC"
      ]
    },
    {
      "cell_type": "code",
      "execution_count": null,
      "metadata": {
        "colab": {
          "base_uri": "https://localhost:8080/",
          "height": 36
        },
        "id": "pypPPEHzWXuT",
        "outputId": "6a908586-49f5-4ee3-c64d-49ca7c61152a"
      },
      "outputs": [
        {
          "output_type": "execute_result",
          "data": {
            "text/plain": [
              "'/usr/local/lib/python3.10/dist-packages/chromedriver_autoinstaller/129/chromedriver'"
            ],
            "application/vnd.google.colaboratory.intrinsic+json": {
              "type": "string"
            }
          },
          "metadata": {},
          "execution_count": 4
        }
      ],
      "source": [
        "# Konfigurasi opsi Chrome\n",
        "sys.path.insert(0,'/usr/lib/chromium-browser/chromedriver')\n",
        "\n",
        "chrome_options = webdriver.ChromeOptions()\n",
        "chrome_options.add_argument('--headless') # Agar berjalan di mode tanpa antarmuka\n",
        "chrome_options.add_argument('--no-sandbox')\n",
        "chrome_options.add_argument('--disable-dev-shm-usage')\n",
        "\n",
        "chromedriver_autoinstaller.install()"
      ]
    },
    {
      "cell_type": "markdown",
      "metadata": {
        "id": "qitMhlTL2c-w"
      },
      "source": [
        "# Scraping Link Artikel Berita di Google"
      ]
    },
    {
      "cell_type": "code",
      "execution_count": null,
      "metadata": {
        "id": "EgkBX7oqzf0h"
      },
      "outputs": [],
      "source": [
        "# Inisialisasi list untuk menyimpan semua data\n",
        "all_articles = set()"
      ]
    },
    {
      "cell_type": "code",
      "source": [
        "# Fungsi untuk memodifikasi link Google News\n",
        "def rearrange_news_link(url):\n",
        "  # Memisahkan URL berdasarkan pola 'start=' diikuti angka dan '&sa='\n",
        "  url_split = re.split(r\"start=(\\d+)&sa=\", url)\n",
        "  # Mengembalikan URL yang telah diubah\n",
        "  return url_split[0] + 'start=', '&sa=' + url_split[-1]"
      ],
      "metadata": {
        "id": "xlN-RKauO21a"
      },
      "execution_count": null,
      "outputs": []
    },
    {
      "cell_type": "code",
      "execution_count": null,
      "metadata": {
        "id": "xoWFK9tIIUoF"
      },
      "outputs": [],
      "source": [
        "# Fungsi untuk hanya mengambil bagian utama dari link berita yang didapatkan\n",
        "def get_google_main_url(url):\n",
        "  return re.findall(r\"^(.*?)(?=&)\", url)[0]"
      ]
    },
    {
      "cell_type": "code",
      "execution_count": null,
      "metadata": {
        "id": "08_sac5-zf0i"
      },
      "outputs": [],
      "source": [
        "def scrape_google_news_link(result_set, number, url):\n",
        "    # Memisahkan URL menjadi bagian yang bisa diproses\n",
        "    url1, url2 = rearrange_news_link(url)\n",
        "\n",
        "    # Mendapatkan URL utama dari URL yang telah dipisahkan\n",
        "    main_url = get_google_main_url(url1)\n",
        "    print(f\"Mengakses URL: {main_url}\")\n",
        "\n",
        "    # Menginisialisasi driver Chrome dengan opsi yang sudah ditentukan\n",
        "    driver = webdriver.Chrome(options=chrome_options)\n",
        "    article_xpath = \"//div[contains(@class, 'MjjYud')]/div\"\n",
        "\n",
        "    try:\n",
        "        # Mengambil artikel dari URL yang diberikan, sebanyak <number> artikel\n",
        "        for i in range(0, number, 10):\n",
        "            # Membuat URL untuk halaman artikel berikutnya\n",
        "            page = url1 + str(i) + url2\n",
        "            driver.get(page)\n",
        "            time.sleep(2)  # Memberi waktu untuk halaman memuat\n",
        "\n",
        "            # Menemukan elemen yang berisi artikel\n",
        "            articles = driver.find_element(By.XPATH, article_xpath)\n",
        "            articles = articles.find_elements(By.CLASS_NAME, \"SoaBEf\")\n",
        "            print(f\"Mengumpulkan artikel dari {i+1} hingga {i+10}\")\n",
        "\n",
        "            # Mengambil link, judul, dan tanggal dari setiap artikel\n",
        "            for article in articles:\n",
        "                # Mengambil link dari elemen <a>\n",
        "                a = article.find_element(By.TAG_NAME, \"a\").get_attribute(\"href\")\n",
        "\n",
        "                 # Mengambil judul berita dari elemen dengan class \"n0jPhd ynAwRc MBeuO nDgy9d\"\n",
        "                try:\n",
        "                    title = article.find_element(By.XPATH, \".//div[@class='n0jPhd ynAwRc MBeuO nDgy9d']\").text\n",
        "                except NoSuchElementException:\n",
        "                    title = None\n",
        "\n",
        "                # Mengambil tanggal dari elemen dengan kelas 'OSrXXb'\n",
        "                try:\n",
        "                    date_str = article.find_element(By.CLASS_NAME, \"OSrXXb\").text\n",
        "                    date = dateparser.parse(date_string=date_str, languages=['en', 'id'])\n",
        "                    date = date.strftime('%Y-%m-%d') if date else None\n",
        "                except NoSuchElementException:\n",
        "                    date = None  # Mengisi dengan None jika tidak ditemukan\n",
        "\n",
        "                # Mengambil nama portal dari elemen dengan class 'MgUUmf NUnG9d'\n",
        "                try:\n",
        "                    portal = article.find_element(By.XPATH, \".//div[@class='MgUUmf NUnG9d']\").text\n",
        "                except NoSuchElementException:\n",
        "                    portal = None\n",
        "\n",
        "                # Menambahkan tuple (link, judul, tanggal, portal, hashtag) ke hasil\n",
        "                result_set.add(tuple([a, title, date, portal]))\n",
        "\n",
        "    except NoSuchElementException as e:\n",
        "        # Jika elemen artikel tidak ditemukan\n",
        "        print('Halaman artikel sudah tidak tersedia')\n",
        "\n",
        "    finally:\n",
        "        # Menutup driver setelah proses selesai\n",
        "        driver.close()\n",
        "        print(f\"Proses selesai. Total link artikel unik yang berhasil diambil: {len(result_set)}\")\n",
        "        print('----------------------------------------------------------')\n"
      ]
    },
    {
      "cell_type": "code",
      "execution_count": null,
      "metadata": {
        "colab": {
          "base_uri": "https://localhost:8080/"
        },
        "id": "JHitTQl0IjDc",
        "outputId": "c449ddfc-7679-4d08-a489-6e50dd3c0b35"
      },
      "outputs": [
        {
          "output_type": "stream",
          "name": "stdout",
          "text": [
            "Mengakses URL: https://www.google.com/search?q=satu+sehat\n",
            "Mengumpulkan artikel dari 1 hingga 10\n",
            "Mengumpulkan artikel dari 11 hingga 20\n",
            "Mengumpulkan artikel dari 21 hingga 30\n",
            "Mengumpulkan artikel dari 31 hingga 40\n",
            "Mengumpulkan artikel dari 41 hingga 50\n",
            "Mengumpulkan artikel dari 51 hingga 60\n",
            "Mengumpulkan artikel dari 61 hingga 70\n",
            "Mengumpulkan artikel dari 71 hingga 80\n",
            "Mengumpulkan artikel dari 81 hingga 90\n",
            "Halaman artikel sudah tidak tersedia\n",
            "Proses selesai. Total link artikel unik yang berhasil diambil: 84\n",
            "----------------------------------------------------------\n",
            "Mengakses URL: https://www.google.com/search?q=peduli+lindungi\n",
            "Mengumpulkan artikel dari 1 hingga 10\n",
            "Mengumpulkan artikel dari 11 hingga 20\n",
            "Mengumpulkan artikel dari 21 hingga 30\n",
            "Mengumpulkan artikel dari 31 hingga 40\n",
            "Mengumpulkan artikel dari 41 hingga 50\n",
            "Mengumpulkan artikel dari 51 hingga 60\n",
            "Mengumpulkan artikel dari 61 hingga 70\n",
            "Mengumpulkan artikel dari 71 hingga 80\n",
            "Mengumpulkan artikel dari 81 hingga 90\n",
            "Mengumpulkan artikel dari 91 hingga 100\n",
            "Mengumpulkan artikel dari 101 hingga 110\n",
            "Mengumpulkan artikel dari 111 hingga 120\n",
            "Mengumpulkan artikel dari 121 hingga 130\n",
            "Mengumpulkan artikel dari 131 hingga 140\n",
            "Halaman artikel sudah tidak tersedia\n",
            "Proses selesai. Total link artikel unik yang berhasil diambil: 218\n",
            "----------------------------------------------------------\n",
            "Mengakses URL: https://www.google.com/search?q=peduli+lindungi+covid+19\n",
            "Mengumpulkan artikel dari 1 hingga 10\n",
            "Mengumpulkan artikel dari 11 hingga 20\n",
            "Mengumpulkan artikel dari 21 hingga 30\n",
            "Mengumpulkan artikel dari 31 hingga 40\n",
            "Mengumpulkan artikel dari 41 hingga 50\n",
            "Mengumpulkan artikel dari 51 hingga 60\n",
            "Mengumpulkan artikel dari 61 hingga 70\n",
            "Mengumpulkan artikel dari 71 hingga 80\n",
            "Halaman artikel sudah tidak tersedia\n",
            "Proses selesai. Total link artikel unik yang berhasil diambil: 244\n",
            "----------------------------------------------------------\n",
            "Mengakses URL: https://www.google.com/search?q=layanan+peduli+lindungi\n",
            "Mengumpulkan artikel dari 1 hingga 10\n",
            "Mengumpulkan artikel dari 11 hingga 20\n",
            "Mengumpulkan artikel dari 21 hingga 30\n",
            "Mengumpulkan artikel dari 31 hingga 40\n",
            "Mengumpulkan artikel dari 41 hingga 50\n",
            "Mengumpulkan artikel dari 51 hingga 60\n",
            "Mengumpulkan artikel dari 61 hingga 70\n",
            "Mengumpulkan artikel dari 71 hingga 80\n",
            "Halaman artikel sudah tidak tersedia\n",
            "Proses selesai. Total link artikel unik yang berhasil diambil: 312\n",
            "----------------------------------------------------------\n"
          ]
        }
      ],
      "source": [
        "# Link Google News yang akan di-scraping\n",
        "# satu sehat\n",
        "scrape_google_news_link(all_articles, 1000, 'https://www.google.com/search?q=satu+sehat&sca_esv=449428b1edf18ef7&tbm=nws&sxsrf=ADLYWIIiJ31AXdt_1uPlcuRXCrWbOCJRPg:1725864313300&ei=eZneZv-IEoKgseMPiN7GyQs&start=0&sa=N&ved=2ahUKEwi_qczKobWIAxUCUGwGHQivMbk4ChDy0wN6BAgDEAQ&biw=1536&bih=703&dpr=1.25')\n",
        "# peduli lindungi\n",
        "scrape_google_news_link(all_articles, 1000, 'https://www.google.com/search?q=peduli+lindungi&sca_esv=449428b1edf18ef7&tbm=nws&sxsrf=ADLYWII8LRnsJNcGclJCB8Yvnvf7td5KGQ:1725864448748&ei=AJreZra2Ld-R4-EP4YLriAM&start=0&sa=N&ved=2ahUKEwi2tpeLorWIAxXfyDgGHWHBGjE4ChDy0wN6BAgDEAQ&biw=1536&bih=703&dpr=1.25')\n",
        "# peduli lindungi covid 19\n",
        "scrape_google_news_link(all_articles, 1000, 'https://www.google.com/search?q=peduli+lindungi+covid+19&sca_esv=449428b1edf18ef7&tbm=nws&sxsrf=ADLYWIJyBmmyIspHbsCsZmAnDpYCI7bcJg:1725864485869&ei=JZreZp3gNLLB4-EP65bUkQc&start=0&sa=N&ved=2ahUKEwjdhvGcorWIAxWy4DgGHWsLNXI4ChDy0wN6BAgEEAQ&biw=1536&bih=703&dpr=1.25')\n",
        "# layanan peduli lindungi\n",
        "scrape_google_news_link(all_articles, 1000, 'https://www.google.com/search?q=layanan+peduli+lindungi&sca_esv=449428b1edf18ef7&tbm=nws&sxsrf=ADLYWIK-xWiGNOvjvOTzKmIHXYcHTmeSfA:1725864527340&ei=T5reZoW_FMiN4-EPzbq24Q4&start=0&sa=N&ved=2ahUKEwjFotSworWIAxXIxjgGHU2dLew4ChDy0wN6BAgBEAQ&biw=1536&bih=703&dpr=1.25')"
      ]
    },
    {
      "cell_type": "code",
      "execution_count": null,
      "metadata": {
        "colab": {
          "base_uri": "https://localhost:8080/"
        },
        "id": "3hQrpvpdaPkW",
        "outputId": "074d3290-8990-4f13-ef2c-0d89128a0b61"
      },
      "outputs": [
        {
          "output_type": "stream",
          "name": "stdout",
          "text": [
            "('https://www.hulondalo.id/kesehatan/9647774737/aplikasi-peduli-lindungi-tak-akan-dipakai-lagi-ini-penggantinya', 'Aplikasi Peduli Lindungi Tak Akan Dipakai lagi, Ini Penggantinya - Hulondalo', '2023-02-28', 'Hulondalo')\n",
            "('https://beritajatim.com/semua-pusat-perbelanjaan-kota-kediri-buka-dan-gunakan-aplikasi-peduli-lindungi', 'Semua Pusat Perbelanjaan Kota Kediri Buka dan Gunakan Aplikasi Peduli Lindungi', '2021-10-08', 'beritajatim.com')\n",
            "('https://www.idntimes.com/news/world/sonya-michaella/aplikasi-pedulilindungi-akan-berubah-jadi-satu-sehat-mobile', 'PeduliLindungi Bakal Berubah Jadi Satu Sehat Mobile', '2023-02-18', 'IDN Times')\n",
            "('https://dayaknews.com/kapuas/masuk-kantor-diskominfo-kapuas-scan-barcode-peduli-lindungi/', 'MASUK KANTOR DISKOMINFO KAPUAS SCAN BARCODE PEDULI LINDUNGI', '2022-02-11', 'Dayak News')\n",
            "('https://indonesiabaik.id/index.php/infografis/makin-mudah-checkin-pedulilindungi-via-web', 'Makin Mudah CheckIn PeduliLindungi via WEB', '2022-10-25', 'Indonesia Baik')\n"
          ]
        }
      ],
      "source": [
        "# Contoh isi link_set\n",
        "for i, data in enumerate(all_articles):\n",
        "  if (i == 5):\n",
        "    break\n",
        "  print(data)"
      ]
    },
    {
      "cell_type": "markdown",
      "metadata": {
        "id": "yK1AEnBeWN_4"
      },
      "source": [
        "## Ubah Set Menjadi DataFrame"
      ]
    },
    {
      "cell_type": "code",
      "execution_count": null,
      "metadata": {
        "id": "hOwLEiB7WRDw"
      },
      "outputs": [],
      "source": [
        "#newsLink_df = pd.DataFrame(data=all_articles, columns=['link', 'tanggal'])\n",
        "newsLink_df = pd.DataFrame(data=all_articles, columns=['link', 'judul', 'tanggal', 'portal'])"
      ]
    },
    {
      "cell_type": "code",
      "execution_count": null,
      "metadata": {
        "id": "5lGnWbqjmG9J"
      },
      "outputs": [],
      "source": [
        "# Konversi tanggal menjadi datetime, urutkan dari terbaru ke terlama\n",
        "newsLink_df['tanggal'] = pd.to_datetime(newsLink_df['tanggal'], format='%Y-%m-%d')\n",
        "newsLink_df = newsLink_df.sort_values(by='tanggal', ascending=False, ignore_index=True)"
      ]
    },
    {
      "cell_type": "code",
      "execution_count": null,
      "metadata": {
        "colab": {
          "base_uri": "https://localhost:8080/",
          "height": 423
        },
        "id": "XRPBWeJpWaUx",
        "outputId": "84b86cb2-58a9-465f-a9ae-ca99c2540913"
      },
      "outputs": [
        {
          "output_type": "execute_result",
          "data": {
            "text/plain": [
              "                                                  link  \\\n",
              "0    https://en.antaranews.com/news/328510/health-m...   \n",
              "1    https://cahayasiang.id/dinilai-peduli-lindungi...   \n",
              "2    https://sippn.menpan.go.id/pelayanan-publik/82...   \n",
              "3    https://memorandum.disway.id/read/114165/pemer...   \n",
              "4    https://www.bicaranetwork.com/kesehatan/295134...   \n",
              "..                                                 ...   \n",
              "307  https://citizenlab.ca/2020/12/unmasked-ii-an-a...   \n",
              "308  https://sahabatsicepat.com/aplikasi-peduli-lin...   \n",
              "309  http://www.thejakartapost.com/life/2020/04/21/...   \n",
              "310  https://www.geospatialworld.net/apps/covid-19/...   \n",
              "311  https://radartulungagung.jawapos.com/features/...   \n",
              "\n",
              "                                                 judul    tanggal  \\\n",
              "0    Health Ministry integrates 119 emergency numbe... 2024-10-06   \n",
              "1    Dinilai Peduli Lindungi Para Pekerja, BPJS Ket... 2024-09-22   \n",
              "2                    Sistem Informasi Pelayanan Publik 2024-09-15   \n",
              "3    Pemerintah Tingkatkan Layanan Haji dan Umrah M... 2024-09-15   \n",
              "4    Tutorial Cara Isi Formulir Satu Sehat Pasca Pu... 2024-09-06   \n",
              "..                                                 ...        ...   \n",
              "307  Unmasked II: An Analysis of Indonesia and the ... 2020-12-21   \n",
              "308    Aplikasi Peduli Lindungi Untuk Tracing Covid-19 2020-04-22   \n",
              "309  What to know before using PeduliLindungi surve... 2020-04-21   \n",
              "310  Indonesia launches PeduliLindungi app to take ... 2020-04-10   \n",
              "311  Tak Hanya Nikmat, Dessert yang Satu Ini Punya ... 2019-03-25   \n",
              "\n",
              "                portal  \n",
              "0          ANTARA News  \n",
              "1         Cahaya Siang  \n",
              "2                SIPPN  \n",
              "3     Memorandum.co.id  \n",
              "4       Bicara Network  \n",
              "..                 ...  \n",
              "307    The Citizen Lab  \n",
              "308    Sahabat SiCepat  \n",
              "309   The Jakarta Post  \n",
              "310   Geospatial World  \n",
              "311  Radar Tulungagung  \n",
              "\n",
              "[312 rows x 4 columns]"
            ],
            "text/html": [
              "\n",
              "  <div id=\"df-22a56712-ffaa-466d-92cd-4693c7d1de2a\" class=\"colab-df-container\">\n",
              "    <div>\n",
              "<style scoped>\n",
              "    .dataframe tbody tr th:only-of-type {\n",
              "        vertical-align: middle;\n",
              "    }\n",
              "\n",
              "    .dataframe tbody tr th {\n",
              "        vertical-align: top;\n",
              "    }\n",
              "\n",
              "    .dataframe thead th {\n",
              "        text-align: right;\n",
              "    }\n",
              "</style>\n",
              "<table border=\"1\" class=\"dataframe\">\n",
              "  <thead>\n",
              "    <tr style=\"text-align: right;\">\n",
              "      <th></th>\n",
              "      <th>link</th>\n",
              "      <th>judul</th>\n",
              "      <th>tanggal</th>\n",
              "      <th>portal</th>\n",
              "    </tr>\n",
              "  </thead>\n",
              "  <tbody>\n",
              "    <tr>\n",
              "      <th>0</th>\n",
              "      <td>https://en.antaranews.com/news/328510/health-m...</td>\n",
              "      <td>Health Ministry integrates 119 emergency numbe...</td>\n",
              "      <td>2024-10-06</td>\n",
              "      <td>ANTARA News</td>\n",
              "    </tr>\n",
              "    <tr>\n",
              "      <th>1</th>\n",
              "      <td>https://cahayasiang.id/dinilai-peduli-lindungi...</td>\n",
              "      <td>Dinilai Peduli Lindungi Para Pekerja, BPJS Ket...</td>\n",
              "      <td>2024-09-22</td>\n",
              "      <td>Cahaya Siang</td>\n",
              "    </tr>\n",
              "    <tr>\n",
              "      <th>2</th>\n",
              "      <td>https://sippn.menpan.go.id/pelayanan-publik/82...</td>\n",
              "      <td>Sistem Informasi Pelayanan Publik</td>\n",
              "      <td>2024-09-15</td>\n",
              "      <td>SIPPN</td>\n",
              "    </tr>\n",
              "    <tr>\n",
              "      <th>3</th>\n",
              "      <td>https://memorandum.disway.id/read/114165/pemer...</td>\n",
              "      <td>Pemerintah Tingkatkan Layanan Haji dan Umrah M...</td>\n",
              "      <td>2024-09-15</td>\n",
              "      <td>Memorandum.co.id</td>\n",
              "    </tr>\n",
              "    <tr>\n",
              "      <th>4</th>\n",
              "      <td>https://www.bicaranetwork.com/kesehatan/295134...</td>\n",
              "      <td>Tutorial Cara Isi Formulir Satu Sehat Pasca Pu...</td>\n",
              "      <td>2024-09-06</td>\n",
              "      <td>Bicara Network</td>\n",
              "    </tr>\n",
              "    <tr>\n",
              "      <th>...</th>\n",
              "      <td>...</td>\n",
              "      <td>...</td>\n",
              "      <td>...</td>\n",
              "      <td>...</td>\n",
              "    </tr>\n",
              "    <tr>\n",
              "      <th>307</th>\n",
              "      <td>https://citizenlab.ca/2020/12/unmasked-ii-an-a...</td>\n",
              "      <td>Unmasked II: An Analysis of Indonesia and the ...</td>\n",
              "      <td>2020-12-21</td>\n",
              "      <td>The Citizen Lab</td>\n",
              "    </tr>\n",
              "    <tr>\n",
              "      <th>308</th>\n",
              "      <td>https://sahabatsicepat.com/aplikasi-peduli-lin...</td>\n",
              "      <td>Aplikasi Peduli Lindungi Untuk Tracing Covid-19</td>\n",
              "      <td>2020-04-22</td>\n",
              "      <td>Sahabat SiCepat</td>\n",
              "    </tr>\n",
              "    <tr>\n",
              "      <th>309</th>\n",
              "      <td>http://www.thejakartapost.com/life/2020/04/21/...</td>\n",
              "      <td>What to know before using PeduliLindungi surve...</td>\n",
              "      <td>2020-04-21</td>\n",
              "      <td>The Jakarta Post</td>\n",
              "    </tr>\n",
              "    <tr>\n",
              "      <th>310</th>\n",
              "      <td>https://www.geospatialworld.net/apps/covid-19/...</td>\n",
              "      <td>Indonesia launches PeduliLindungi app to take ...</td>\n",
              "      <td>2020-04-10</td>\n",
              "      <td>Geospatial World</td>\n",
              "    </tr>\n",
              "    <tr>\n",
              "      <th>311</th>\n",
              "      <td>https://radartulungagung.jawapos.com/features/...</td>\n",
              "      <td>Tak Hanya Nikmat, Dessert yang Satu Ini Punya ...</td>\n",
              "      <td>2019-03-25</td>\n",
              "      <td>Radar Tulungagung</td>\n",
              "    </tr>\n",
              "  </tbody>\n",
              "</table>\n",
              "<p>312 rows × 4 columns</p>\n",
              "</div>\n",
              "    <div class=\"colab-df-buttons\">\n",
              "\n",
              "  <div class=\"colab-df-container\">\n",
              "    <button class=\"colab-df-convert\" onclick=\"convertToInteractive('df-22a56712-ffaa-466d-92cd-4693c7d1de2a')\"\n",
              "            title=\"Convert this dataframe to an interactive table.\"\n",
              "            style=\"display:none;\">\n",
              "\n",
              "  <svg xmlns=\"http://www.w3.org/2000/svg\" height=\"24px\" viewBox=\"0 -960 960 960\">\n",
              "    <path d=\"M120-120v-720h720v720H120Zm60-500h600v-160H180v160Zm220 220h160v-160H400v160Zm0 220h160v-160H400v160ZM180-400h160v-160H180v160Zm440 0h160v-160H620v160ZM180-180h160v-160H180v160Zm440 0h160v-160H620v160Z\"/>\n",
              "  </svg>\n",
              "    </button>\n",
              "\n",
              "  <style>\n",
              "    .colab-df-container {\n",
              "      display:flex;\n",
              "      gap: 12px;\n",
              "    }\n",
              "\n",
              "    .colab-df-convert {\n",
              "      background-color: #E8F0FE;\n",
              "      border: none;\n",
              "      border-radius: 50%;\n",
              "      cursor: pointer;\n",
              "      display: none;\n",
              "      fill: #1967D2;\n",
              "      height: 32px;\n",
              "      padding: 0 0 0 0;\n",
              "      width: 32px;\n",
              "    }\n",
              "\n",
              "    .colab-df-convert:hover {\n",
              "      background-color: #E2EBFA;\n",
              "      box-shadow: 0px 1px 2px rgba(60, 64, 67, 0.3), 0px 1px 3px 1px rgba(60, 64, 67, 0.15);\n",
              "      fill: #174EA6;\n",
              "    }\n",
              "\n",
              "    .colab-df-buttons div {\n",
              "      margin-bottom: 4px;\n",
              "    }\n",
              "\n",
              "    [theme=dark] .colab-df-convert {\n",
              "      background-color: #3B4455;\n",
              "      fill: #D2E3FC;\n",
              "    }\n",
              "\n",
              "    [theme=dark] .colab-df-convert:hover {\n",
              "      background-color: #434B5C;\n",
              "      box-shadow: 0px 1px 3px 1px rgba(0, 0, 0, 0.15);\n",
              "      filter: drop-shadow(0px 1px 2px rgba(0, 0, 0, 0.3));\n",
              "      fill: #FFFFFF;\n",
              "    }\n",
              "  </style>\n",
              "\n",
              "    <script>\n",
              "      const buttonEl =\n",
              "        document.querySelector('#df-22a56712-ffaa-466d-92cd-4693c7d1de2a button.colab-df-convert');\n",
              "      buttonEl.style.display =\n",
              "        google.colab.kernel.accessAllowed ? 'block' : 'none';\n",
              "\n",
              "      async function convertToInteractive(key) {\n",
              "        const element = document.querySelector('#df-22a56712-ffaa-466d-92cd-4693c7d1de2a');\n",
              "        const dataTable =\n",
              "          await google.colab.kernel.invokeFunction('convertToInteractive',\n",
              "                                                    [key], {});\n",
              "        if (!dataTable) return;\n",
              "\n",
              "        const docLinkHtml = 'Like what you see? Visit the ' +\n",
              "          '<a target=\"_blank\" href=https://colab.research.google.com/notebooks/data_table.ipynb>data table notebook</a>'\n",
              "          + ' to learn more about interactive tables.';\n",
              "        element.innerHTML = '';\n",
              "        dataTable['output_type'] = 'display_data';\n",
              "        await google.colab.output.renderOutput(dataTable, element);\n",
              "        const docLink = document.createElement('div');\n",
              "        docLink.innerHTML = docLinkHtml;\n",
              "        element.appendChild(docLink);\n",
              "      }\n",
              "    </script>\n",
              "  </div>\n",
              "\n",
              "\n",
              "<div id=\"df-64b6b4b6-85d7-4412-8b66-8455725561d5\">\n",
              "  <button class=\"colab-df-quickchart\" onclick=\"quickchart('df-64b6b4b6-85d7-4412-8b66-8455725561d5')\"\n",
              "            title=\"Suggest charts\"\n",
              "            style=\"display:none;\">\n",
              "\n",
              "<svg xmlns=\"http://www.w3.org/2000/svg\" height=\"24px\"viewBox=\"0 0 24 24\"\n",
              "     width=\"24px\">\n",
              "    <g>\n",
              "        <path d=\"M19 3H5c-1.1 0-2 .9-2 2v14c0 1.1.9 2 2 2h14c1.1 0 2-.9 2-2V5c0-1.1-.9-2-2-2zM9 17H7v-7h2v7zm4 0h-2V7h2v10zm4 0h-2v-4h2v4z\"/>\n",
              "    </g>\n",
              "</svg>\n",
              "  </button>\n",
              "\n",
              "<style>\n",
              "  .colab-df-quickchart {\n",
              "      --bg-color: #E8F0FE;\n",
              "      --fill-color: #1967D2;\n",
              "      --hover-bg-color: #E2EBFA;\n",
              "      --hover-fill-color: #174EA6;\n",
              "      --disabled-fill-color: #AAA;\n",
              "      --disabled-bg-color: #DDD;\n",
              "  }\n",
              "\n",
              "  [theme=dark] .colab-df-quickchart {\n",
              "      --bg-color: #3B4455;\n",
              "      --fill-color: #D2E3FC;\n",
              "      --hover-bg-color: #434B5C;\n",
              "      --hover-fill-color: #FFFFFF;\n",
              "      --disabled-bg-color: #3B4455;\n",
              "      --disabled-fill-color: #666;\n",
              "  }\n",
              "\n",
              "  .colab-df-quickchart {\n",
              "    background-color: var(--bg-color);\n",
              "    border: none;\n",
              "    border-radius: 50%;\n",
              "    cursor: pointer;\n",
              "    display: none;\n",
              "    fill: var(--fill-color);\n",
              "    height: 32px;\n",
              "    padding: 0;\n",
              "    width: 32px;\n",
              "  }\n",
              "\n",
              "  .colab-df-quickchart:hover {\n",
              "    background-color: var(--hover-bg-color);\n",
              "    box-shadow: 0 1px 2px rgba(60, 64, 67, 0.3), 0 1px 3px 1px rgba(60, 64, 67, 0.15);\n",
              "    fill: var(--button-hover-fill-color);\n",
              "  }\n",
              "\n",
              "  .colab-df-quickchart-complete:disabled,\n",
              "  .colab-df-quickchart-complete:disabled:hover {\n",
              "    background-color: var(--disabled-bg-color);\n",
              "    fill: var(--disabled-fill-color);\n",
              "    box-shadow: none;\n",
              "  }\n",
              "\n",
              "  .colab-df-spinner {\n",
              "    border: 2px solid var(--fill-color);\n",
              "    border-color: transparent;\n",
              "    border-bottom-color: var(--fill-color);\n",
              "    animation:\n",
              "      spin 1s steps(1) infinite;\n",
              "  }\n",
              "\n",
              "  @keyframes spin {\n",
              "    0% {\n",
              "      border-color: transparent;\n",
              "      border-bottom-color: var(--fill-color);\n",
              "      border-left-color: var(--fill-color);\n",
              "    }\n",
              "    20% {\n",
              "      border-color: transparent;\n",
              "      border-left-color: var(--fill-color);\n",
              "      border-top-color: var(--fill-color);\n",
              "    }\n",
              "    30% {\n",
              "      border-color: transparent;\n",
              "      border-left-color: var(--fill-color);\n",
              "      border-top-color: var(--fill-color);\n",
              "      border-right-color: var(--fill-color);\n",
              "    }\n",
              "    40% {\n",
              "      border-color: transparent;\n",
              "      border-right-color: var(--fill-color);\n",
              "      border-top-color: var(--fill-color);\n",
              "    }\n",
              "    60% {\n",
              "      border-color: transparent;\n",
              "      border-right-color: var(--fill-color);\n",
              "    }\n",
              "    80% {\n",
              "      border-color: transparent;\n",
              "      border-right-color: var(--fill-color);\n",
              "      border-bottom-color: var(--fill-color);\n",
              "    }\n",
              "    90% {\n",
              "      border-color: transparent;\n",
              "      border-bottom-color: var(--fill-color);\n",
              "    }\n",
              "  }\n",
              "</style>\n",
              "\n",
              "  <script>\n",
              "    async function quickchart(key) {\n",
              "      const quickchartButtonEl =\n",
              "        document.querySelector('#' + key + ' button');\n",
              "      quickchartButtonEl.disabled = true;  // To prevent multiple clicks.\n",
              "      quickchartButtonEl.classList.add('colab-df-spinner');\n",
              "      try {\n",
              "        const charts = await google.colab.kernel.invokeFunction(\n",
              "            'suggestCharts', [key], {});\n",
              "      } catch (error) {\n",
              "        console.error('Error during call to suggestCharts:', error);\n",
              "      }\n",
              "      quickchartButtonEl.classList.remove('colab-df-spinner');\n",
              "      quickchartButtonEl.classList.add('colab-df-quickchart-complete');\n",
              "    }\n",
              "    (() => {\n",
              "      let quickchartButtonEl =\n",
              "        document.querySelector('#df-64b6b4b6-85d7-4412-8b66-8455725561d5 button');\n",
              "      quickchartButtonEl.style.display =\n",
              "        google.colab.kernel.accessAllowed ? 'block' : 'none';\n",
              "    })();\n",
              "  </script>\n",
              "</div>\n",
              "\n",
              "  <div id=\"id_c9f2557e-4adc-4330-bb2a-f86c71d589f9\">\n",
              "    <style>\n",
              "      .colab-df-generate {\n",
              "        background-color: #E8F0FE;\n",
              "        border: none;\n",
              "        border-radius: 50%;\n",
              "        cursor: pointer;\n",
              "        display: none;\n",
              "        fill: #1967D2;\n",
              "        height: 32px;\n",
              "        padding: 0 0 0 0;\n",
              "        width: 32px;\n",
              "      }\n",
              "\n",
              "      .colab-df-generate:hover {\n",
              "        background-color: #E2EBFA;\n",
              "        box-shadow: 0px 1px 2px rgba(60, 64, 67, 0.3), 0px 1px 3px 1px rgba(60, 64, 67, 0.15);\n",
              "        fill: #174EA6;\n",
              "      }\n",
              "\n",
              "      [theme=dark] .colab-df-generate {\n",
              "        background-color: #3B4455;\n",
              "        fill: #D2E3FC;\n",
              "      }\n",
              "\n",
              "      [theme=dark] .colab-df-generate:hover {\n",
              "        background-color: #434B5C;\n",
              "        box-shadow: 0px 1px 3px 1px rgba(0, 0, 0, 0.15);\n",
              "        filter: drop-shadow(0px 1px 2px rgba(0, 0, 0, 0.3));\n",
              "        fill: #FFFFFF;\n",
              "      }\n",
              "    </style>\n",
              "    <button class=\"colab-df-generate\" onclick=\"generateWithVariable('newsLink_df')\"\n",
              "            title=\"Generate code using this dataframe.\"\n",
              "            style=\"display:none;\">\n",
              "\n",
              "  <svg xmlns=\"http://www.w3.org/2000/svg\" height=\"24px\"viewBox=\"0 0 24 24\"\n",
              "       width=\"24px\">\n",
              "    <path d=\"M7,19H8.4L18.45,9,17,7.55,7,17.6ZM5,21V16.75L18.45,3.32a2,2,0,0,1,2.83,0l1.4,1.43a1.91,1.91,0,0,1,.58,1.4,1.91,1.91,0,0,1-.58,1.4L9.25,21ZM18.45,9,17,7.55Zm-12,3A5.31,5.31,0,0,0,4.9,8.1,5.31,5.31,0,0,0,1,6.5,5.31,5.31,0,0,0,4.9,4.9,5.31,5.31,0,0,0,6.5,1,5.31,5.31,0,0,0,8.1,4.9,5.31,5.31,0,0,0,12,6.5,5.46,5.46,0,0,0,6.5,12Z\"/>\n",
              "  </svg>\n",
              "    </button>\n",
              "    <script>\n",
              "      (() => {\n",
              "      const buttonEl =\n",
              "        document.querySelector('#id_c9f2557e-4adc-4330-bb2a-f86c71d589f9 button.colab-df-generate');\n",
              "      buttonEl.style.display =\n",
              "        google.colab.kernel.accessAllowed ? 'block' : 'none';\n",
              "\n",
              "      buttonEl.onclick = () => {\n",
              "        google.colab.notebook.generateWithVariable('newsLink_df');\n",
              "      }\n",
              "      })();\n",
              "    </script>\n",
              "  </div>\n",
              "\n",
              "    </div>\n",
              "  </div>\n"
            ],
            "application/vnd.google.colaboratory.intrinsic+json": {
              "type": "dataframe",
              "variable_name": "newsLink_df",
              "summary": "{\n  \"name\": \"newsLink_df\",\n  \"rows\": 312,\n  \"fields\": [\n    {\n      \"column\": \"link\",\n      \"properties\": {\n        \"dtype\": \"string\",\n        \"num_unique_values\": 312,\n        \"samples\": [\n          \"https://en.antaranews.com/news/193105/pedulilindungi-qr-codes-integrated-with-dozens-of-apps-minister\",\n          \"https://kemlu.go.id/madrid/en/news/30434/the-implementation-of-satusehat-health-pass-for-international-travelers-to-indonesia\",\n          \"https://langit7.id/read/30250/1/4-fitur-diari-kesehatan-aplikasi-satu-sehat-mobile-1677765835\"\n        ],\n        \"semantic_type\": \"\",\n        \"description\": \"\"\n      }\n    },\n    {\n      \"column\": \"judul\",\n      \"properties\": {\n        \"dtype\": \"string\",\n        \"num_unique_values\": 310,\n        \"samples\": [\n          \"Tidak Mau Tergesa, Ganjar Pranowo Usulkan Penerapan Peduli Lindungi di Mall dan Restoran Sebatas Uji Coba Dulu - Media Purwodadi\",\n          \"EMBASSY OF THE REPUBLIC OF INDONESIA IN MADRID, THE KINGDOM OF SPAIN\",\n          \"4 Fitur Diari Kesehatan Aplikasi Satu Sehat Mobile\"\n        ],\n        \"semantic_type\": \"\",\n        \"description\": \"\"\n      }\n    },\n    {\n      \"column\": \"tanggal\",\n      \"properties\": {\n        \"dtype\": \"date\",\n        \"min\": \"2019-03-25 00:00:00\",\n        \"max\": \"2024-10-06 00:00:00\",\n        \"num_unique_values\": 196,\n        \"samples\": [\n          \"2021-10-13 00:00:00\",\n          \"2021-12-24 00:00:00\",\n          \"2023-11-02 00:00:00\"\n        ],\n        \"semantic_type\": \"\",\n        \"description\": \"\"\n      }\n    },\n    {\n      \"column\": \"portal\",\n      \"properties\": {\n        \"dtype\": \"string\",\n        \"num_unique_values\": 220,\n        \"samples\": [\n          \"Jatimtimes\",\n          \"Kementerian Pendayagunaan Aparatur Negara dan Reformasi Birokrasi\",\n          \"news.okezone.com\"\n        ],\n        \"semantic_type\": \"\",\n        \"description\": \"\"\n      }\n    }\n  ]\n}"
            }
          },
          "metadata": {},
          "execution_count": 13
        }
      ],
      "source": [
        "newsLink_df"
      ]
    },
    {
      "cell_type": "markdown",
      "metadata": {
        "id": "CoTsmsKL2jyn"
      },
      "source": [
        "## Simpan Link Artikel Berita ke CSV dan Excel"
      ]
    },
    {
      "cell_type": "code",
      "execution_count": null,
      "metadata": {
        "colab": {
          "base_uri": "https://localhost:8080/"
        },
        "id": "TDgpqjSFmbEu",
        "outputId": "2d648dee-96a6-4ba6-ba08-43d426369b04"
      },
      "outputs": [
        {
          "output_type": "stream",
          "name": "stdout",
          "text": [
            "---------------------------------------------------------------------\n",
            "Successfully output the results to the link_berita_satusehat.csv file\n",
            "Successfully got 312 unique article links\n"
          ]
        }
      ],
      "source": [
        "output_file = 'link_berita_satusehat.csv'\n",
        "newsLink_df.to_csv(output_file, index=False)\n",
        "\n",
        "message = f\"Successfully output the results to the {output_file} file\"\n",
        "print('-' * len(message))\n",
        "print(message)\n",
        "print(f\"Successfully got {len(all_articles)} unique article links\")"
      ]
    },
    {
      "cell_type": "code",
      "source": [
        "output_file2 = 'link_berita_satusehat.xlsx'\n",
        "newsLink_df.to_excel(output_file2, index=False)"
      ],
      "metadata": {
        "id": "qJd02tFVS9hn"
      },
      "execution_count": null,
      "outputs": []
    }
  ],
  "metadata": {
    "colab": {
      "provenance": []
    },
    "kernelspec": {
      "display_name": "Python 3",
      "language": "python",
      "name": "python3"
    },
    "language_info": {
      "codemirror_mode": {
        "name": "ipython",
        "version": 3
      },
      "file_extension": ".py",
      "mimetype": "text/x-python",
      "name": "python",
      "nbconvert_exporter": "python",
      "pygments_lexer": "ipython3",
      "version": "3.11.4"
    }
  },
  "nbformat": 4,
  "nbformat_minor": 0
}